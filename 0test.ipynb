{
 "cells": [
  {
   "cell_type": "markdown",
   "id": "0",
   "metadata": {},
   "source": [
    "# openai api key 테스트"
   ]
  },
  {
   "cell_type": "code",
   "execution_count": null,
   "id": "1",
   "metadata": {},
   "outputs": [],
   "source": [
    "import os\n",
    "from dotenv import load_dotenv\n",
    "\n",
    "# .env 파일에 저장된 환경변수 로드\n",
    "load_dotenv(override=True)\n",
    "OPENAI_API_KEY = os.getenv(\"OPENAI_API_KEY\")"
   ]
  },
  {
   "cell_type": "markdown",
   "id": "2",
   "metadata": {},
   "source": [
    "## 라이브러리 로딩 및 객체 생성"
   ]
  },
  {
   "cell_type": "code",
   "execution_count": null,
   "id": "3",
   "metadata": {},
   "outputs": [],
   "source": [
    "\n",
    "from openai import OpenAI\n",
    "\n",
    "# openai api 인증 및 openai 객체 생성\n",
    "client = OpenAI(api_key=OPENAI_API_KEY)"
   ]
  },
  {
   "cell_type": "markdown",
   "id": "4",
   "metadata": {},
   "source": [
    "## gpt ai 모델에 질문하기"
   ]
  },
  {
   "cell_type": "code",
   "execution_count": null,
   "id": "5",
   "metadata": {},
   "outputs": [],
   "source": [
    "response = client.responses.create(\n",
    "    model=\"gpt-5\",\n",
    "    input=\"안녕, gpt-5는 처음이야. 인사만 하자\"\n",
    ")\n",
    "\n",
    "print(response.output_text)"
   ]
  },
  {
   "cell_type": "markdown",
   "id": "6",
   "metadata": {},
   "source": [
    "## 응답결과 파싱(추출)"
   ]
  },
  {
   "cell_type": "code",
   "execution_count": null,
   "id": "7",
   "metadata": {},
   "outputs": [],
   "source": [
    "print(response)"
   ]
  },
  {
   "cell_type": "markdown",
   "id": "8",
   "metadata": {},
   "source": [
    "- AI의 응답결과\n",
    "  Response(id='resp_0a2194ac081625bc0068fece8dfb10819ea7ed7c38c9167f3f', created_at=1761529486.0, error=None, incomplete_details=None, instructions=None, metadata={}, model='gpt-5-2025-08-07', object='response', output=[ResponseReasoningItem(id='rs_0a2194ac081625bc0068fece8e76c4819eb7b156a53c260db1', summary=[], type='reasoning', content=None, encrypted_content=None, status=None), ResponseOutputMessage(id='msg_0a2194ac081625bc0068fece9319b0819e8701e1aadf1b21e6', content=[ResponseOutputText(annotations=[], text='안녕! 만나서 반가워. 나는 GPT-5야. 인사만 하고 갈게—필요할 때 언제든지 불러줘!', type='output_text', logprobs=[])], role='assistant', status='completed', type='message')], parallel_tool_calls=True, temperature=1.0, tool_choice='auto', tools=[], top_p=1.0, background=False, conversation=None, max_output_tokens=None, max_tool_calls=None, previous_response_id=None, prompt=None, prompt_cache_key=None, reasoning=Reasoning(effort='medium', generate_summary=None, summary=None), safety_identifier=None, service_tier='default', status='completed', text=ResponseTextConfig(format=ResponseFormatText(type='text'), verbosity='medium'), top_logprobs=0, truncation='disabled', usage=ResponseUsage(input_tokens=23, input_tokens_details=InputTokensDetails(cached_tokens=0), output_tokens=359, output_tokens_details=OutputTokensDetails(reasoning_tokens=320), total_tokens=382), user=None, billing={'payer': 'developer'}, store=True)"
   ]
  },
  {
   "cell_type": "code",
   "execution_count": null,
   "id": "9",
   "metadata": {},
   "outputs": [],
   "source": [
    "print(response.output_text)"
   ]
  },
  {
   "cell_type": "markdown",
   "id": "10",
   "metadata": {},
   "source": [
    "## 플리그라운드를 이용 실습"
   ]
  },
  {
   "cell_type": "code",
   "execution_count": null,
   "id": "11",
   "metadata": {},
   "outputs": [],
   "source": [
    "from openai import OpenAI\n",
    "client = OpenAI()\n",
    "\n",
    "response = client.responses.create(\n",
    "  prompt={\n",
    "    \"id\": \"pmpt_68fedd5aaf4c8190b8f76c0bce1848110f65d88f9f5d926b\",\n",
    "    \"version\": \"1\",\n",
    "    \"variables\": {\n",
    "      \"city\": \"제주도\"\n",
    "    }\n",
    "  }\n",
    ")\n",
    "\n",
    "print(response.output_text)"
   ]
  },
  {
   "cell_type": "markdown",
   "id": "12",
   "metadata": {},
   "source": [
    "# GPT 모델 프롬프트 이해\n",
    "- 프롬프트 구조 이해"
   ]
  },
  {
   "cell_type": "code",
   "execution_count": null,
   "id": "13",
   "metadata": {},
   "outputs": [],
   "source": [
    "# openai gpt 객체 생성\n",
    "client = OpenAI(api_key=OPENAI_API_KEY)"
   ]
  },
  {
   "cell_type": "code",
   "execution_count": null,
   "id": "14",
   "metadata": {},
   "outputs": [],
   "source": [
    "# 자체적인 ai를 개발해서 사용하는 것이 아니라\n",
    "# 오픈ai에서 제공하는 gpt-5 모델을 api로 호출해서 사용하는 코드입니다."
   ]
  },
  {
   "cell_type": "code",
   "execution_count": null,
   "id": "15",
   "metadata": {},
   "outputs": [],
   "source": [
    "completion = client.chat.completions.create(\n",
    "    model=\"gpt-3.5-turbo\", # 테스트는 싼거로\n",
    "    messages=[\n",
    "        # System 프롬프트\n",
    "        {\n",
    "            \"role\": \"system\",\n",
    "            \"content\": \"너는 IT 전문가야. 초등학생도 이해할 수 있도록 답변 부탁해.\"\n",
    "        },\n",
    "        # User 프롬프트\n",
    "        {\n",
    "            \"role\": \"user\",\n",
    "            \"content\": \"클라우드와 플랫폼의 차이를 설명해줘\"\n",
    "        }\n",
    "    ]\n",
    ")"
   ]
  },
  {
   "cell_type": "code",
   "execution_count": null,
   "id": "16",
   "metadata": {},
   "outputs": [],
   "source": [
    "completion"
   ]
  },
  {
   "cell_type": "code",
   "execution_count": null,
   "id": "17",
   "metadata": {},
   "outputs": [],
   "source": [
    "# 이거 안돼\n",
    "# print(completions.output_text)\n",
    "print(completion.choices[0].message.content)"
   ]
  },
  {
   "cell_type": "code",
   "execution_count": null,
   "id": "18",
   "metadata": {},
   "outputs": [],
   "source": [
    "completion = client.chat.completions.create(\n",
    "    model=\"gpt-5\", # 테스트는 싼거로\n",
    "    messages=[\n",
    "        # System 프롬프트\n",
    "        {\n",
    "            \"role\": \"system\",\n",
    "            \"content\": \"너는 IT 전문가야. 초등학생도 이해할 수 있도록 답변 부탁해.\"\n",
    "        },\n",
    "        # User 프롬프트\n",
    "        {\n",
    "            \"role\": \"user\",\n",
    "            \"content\": \"클라우드와 플랫폼의 차이를 설명해줘\"\n",
    "        }\n",
    "    ],\n",
    "    # temperature=0.0,\n",
    "    # max_tokens=1024,  <--  사용자 설정 불가능\n",
    "    # top_p=0.5 <--  사용자 설정 불가능\n",
    ")"
   ]
  },
  {
   "cell_type": "code",
   "execution_count": null,
   "id": "19",
   "metadata": {},
   "outputs": [],
   "source": [
    "print(completion.choices[0].message.content)"
   ]
  },
  {
   "cell_type": "code",
   "execution_count": null,
   "id": "20",
   "metadata": {},
   "outputs": [],
   "source": [
    "# model 파라미터만 바꿔서 gpt-4.1-nano 모델 사용\n",
    "completion = client.chat.completions.create(\n",
    "    model=\"gpt-4.1-nano\", # 테스트는 싼거로\n",
    "    messages=[\n",
    "        # System 프롬프트\n",
    "        {\n",
    "            \"role\": \"system\",\n",
    "            \"content\": \"너는 IT 전문가야. 초등학생도 이해할 수 있도록 답변 부탁해.\"\n",
    "        },\n",
    "        # User 프롬프트\n",
    "        {\n",
    "            \"role\": \"user\",\n",
    "            \"content\": \"클라우드와 플랫폼의 차이를 설명해줘\"\n",
    "        }\n",
    "    ],\n",
    "    temperature=1.0,\n",
    "    max_tokens=1024,\n",
    "    top_p=0.5\n",
    ")"
   ]
  },
  {
   "cell_type": "code",
   "execution_count": null,
   "id": "21",
   "metadata": {},
   "outputs": [],
   "source": [
    "print(completion.choices[0].message.content)"
   ]
  },
  {
   "cell_type": "code",
   "execution_count": null,
   "id": "22",
   "metadata": {},
   "outputs": [],
   "source": []
  }
 ],
 "metadata": {
  "kernelspec": {
   "display_name": "llm_env",
   "language": "python",
   "name": "python3"
  },
  "language_info": {
   "codemirror_mode": {
    "name": "ipython",
    "version": 3
   },
   "file_extension": ".py",
   "mimetype": "text/x-python",
   "name": "python",
   "nbconvert_exporter": "python",
   "pygments_lexer": "ipython3",
   "version": "3.10.19"
  }
 },
 "nbformat": 4,
 "nbformat_minor": 5
}
