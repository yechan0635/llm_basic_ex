{
 "cells": [
  {
   "cell_type": "markdown",
   "id": "0",
   "metadata": {},
   "source": [
    "# Huggingface를 활용한 이미지 인식"
   ]
  },
  {
   "cell_type": "code",
   "execution_count": null,
   "id": "1",
   "metadata": {},
   "outputs": [],
   "source": [
    "# 방법1 : access token을 직접 입력하는 방법\n",
    "# from huggingface_hub import notebook_login\n",
    "# notebook_login()\n",
    "\n",
    "# 방법2 : 환경변수에 저장, 로딩해서 인정하는 방법\n",
    "from huggingface_hub import login\n",
    "from dotenv import load_dotenv\n",
    "import os\n",
    "\n",
    "# 1️⃣ .env 파일의 내용을 로드\n",
    "load_dotenv(\".env\", override=True)\n",
    "\n",
    "# 2️⃣ 환경 변수 가져오기\n",
    "HF_READ_TOKEN = os.getenv(\"HF_READ_TOKEN\")\n",
    "# print(HF_READ_TOKEN)\n",
    "\n",
    "# 로그인 실행\n",
    "login(HF_READ_TOKEN)"
   ]
  },
  {
   "cell_type": "code",
   "execution_count": null,
   "id": "2",
   "metadata": {},
   "outputs": [],
   "source": [
    "from transformers import pipeline"
   ]
  },
  {
   "cell_type": "code",
   "execution_count": null,
   "id": "3",
   "metadata": {},
   "outputs": [],
   "source": [
    "classifier = pipeline(\"image-classification\")"
   ]
  },
  {
   "cell_type": "code",
   "execution_count": null,
   "id": "4",
   "metadata": {},
   "outputs": [],
   "source": [
    "# 이미지\n",
    "img_path = \"datas/사과.jpg\""
   ]
  },
  {
   "cell_type": "code",
   "execution_count": null,
   "id": "5",
   "metadata": {},
   "outputs": [],
   "source": [
    "classifier(img_path)"
   ]
  },
  {
   "cell_type": "code",
   "execution_count": null,
   "id": "6",
   "metadata": {},
   "outputs": [],
   "source": [
    "result = classifier(img_path)\n",
    "result"
   ]
  },
  {
   "cell_type": "code",
   "execution_count": null,
   "id": "7",
   "metadata": {},
   "outputs": [],
   "source": [
    "result[0]['label']"
   ]
  },
  {
   "cell_type": "markdown",
   "id": "8",
   "metadata": {},
   "source": [
    "## 객체 탐지"
   ]
  },
  {
   "cell_type": "code",
   "execution_count": null,
   "id": "9",
   "metadata": {},
   "outputs": [],
   "source": [
    "# object detection\n",
    "detector = pipeline(\"object-detection\")"
   ]
  },
  {
   "cell_type": "code",
   "execution_count": null,
   "id": "10",
   "metadata": {},
   "outputs": [],
   "source": [
    "import timm\n",
    "print(timm.__version__)"
   ]
  },
  {
   "cell_type": "code",
   "execution_count": null,
   "id": "11",
   "metadata": {},
   "outputs": [],
   "source": [
    "# 객체 탐지\n",
    "image_path = 'datas/도로.jpg'\n",
    "results = detector(image_path)"
   ]
  },
  {
   "cell_type": "code",
   "execution_count": null,
   "id": "12",
   "metadata": {},
   "outputs": [],
   "source": [
    "results"
   ]
  },
  {
   "cell_type": "markdown",
   "id": "13",
   "metadata": {},
   "source": [
    "## 결과그리기"
   ]
  },
  {
   "cell_type": "code",
   "execution_count": null,
   "id": "14",
   "metadata": {},
   "outputs": [],
   "source": [
    "import matplotlib.pyplot as plt\n",
    "import matplotlib.patches as patches"
   ]
  },
  {
   "cell_type": "code",
   "execution_count": null,
   "id": "15",
   "metadata": {},
   "outputs": [],
   "source": [
    "image = plt.imread(image_path)\n",
    "fig, ax = plt.subplots(1)\n",
    "ax.imshow(image)\n",
    "\n",
    "for result in results:\n",
    "    xmin = int(result['box']['xmin'])\n",
    "    ymin = int(result['box']['ymin'])\n",
    "    xmax = int(result['box']['xmax'])\n",
    "    ymax = int(result['box']['ymax'])\n",
    "    width = xmax - xmin\n",
    "    height = ymax - ymin\n",
    "    score = result['score']\n",
    "    label = result['label']\n",
    "\n",
    "    rect = patches.Rectangle((xmin, ymin), width, height, linewidth=2, edgecolor='r', facecolor='none')\n",
    "    ax.add_patch(rect)\n",
    "    ax.text(xmin, ymin, f'{label}: {score:.2f}', color='r', fontsize=10, bbox=dict(facecolor='white', alpha=0.5))\n",
    "\n",
    "plt.axis('off')\n",
    "plt.show()"
   ]
  },
  {
   "cell_type": "markdown",
   "id": "16",
   "metadata": {},
   "source": [
    "## 이미지 생성(text to image)"
   ]
  },
  {
   "cell_type": "code",
   "execution_count": null,
   "id": "17",
   "metadata": {},
   "outputs": [],
   "source": [
    "from diffusers import DiffusionPipeline\n",
    "import torch"
   ]
  },
  {
   "cell_type": "code",
   "execution_count": null,
   "id": "18",
   "metadata": {},
   "outputs": [],
   "source": [
    "from huggingface_hub import login\n",
    "from dotenv import load_dotenv\n",
    "import os\n",
    "from diffusers import DiffusionPipeline\n",
    "\n",
    "# 1️⃣ .env 파일의 내용을 로드\n",
    "load_dotenv(\".env\", override=True)\n",
    "\n",
    "# 2️⃣ 환경 변수 가져오기\n",
    "HF_READ_TOKEN = os.getenv(\"HF_READ_TOKEN\")\n",
    "# print(HF_READ_TOKEN)\n",
    "\n",
    "login(HF_READ_TOKEN) # 로그인 실행\n",
    "# --------------\n",
    "model =\"runwayml/stable-diffusion-v1-5\"\n",
    "pipe = DiffusionPipeline.from_pretrained(model)\n",
    "\n",
    "result = pipe(\"Draw a woman looking at the sea\")\n",
    "image = result.images[0]  # 첫 번째 이미지 선택\n",
    "# 이미지 보여주기\n",
    "image.show()  # 기본 이미지 뷰어에서 확인\n",
    "# 이미지 저장 (선택)\n",
    "image.save(\"output.png\")"
   ]
  },
  {
   "cell_type": "code",
   "execution_count": null,
   "id": "19",
   "metadata": {},
   "outputs": [],
   "source": []
  }
 ],
 "metadata": {
  "kernelspec": {
   "display_name": "llm_env",
   "language": "python",
   "name": "python3"
  },
  "language_info": {
   "codemirror_mode": {
    "name": "ipython",
    "version": 3
   },
   "file_extension": ".py",
   "mimetype": "text/x-python",
   "name": "python",
   "nbconvert_exporter": "python",
   "pygments_lexer": "ipython3",
   "version": "3.10.19"
  }
 },
 "nbformat": 4,
 "nbformat_minor": 5
}
