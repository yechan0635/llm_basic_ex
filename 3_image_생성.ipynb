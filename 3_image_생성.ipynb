{
 "cells": [
  {
   "cell_type": "markdown",
   "id": "0",
   "metadata": {},
   "source": [
    "# openai api key 테스트"
   ]
  },
  {
   "cell_type": "code",
   "execution_count": null,
   "id": "1",
   "metadata": {},
   "outputs": [],
   "source": [
    "import os\n",
    "from dotenv import load_dotenv\n",
    "\n",
    "# .env 파일에 저장된 환경변수 로드\n",
    "load_dotenv(override=True)\n",
    "OPENAI_API_KEY = os.getenv(\"OPENAI_API_KEY\")"
   ]
  },
  {
   "cell_type": "markdown",
   "id": "2",
   "metadata": {},
   "source": [
    "## 라이브러리 로딩 및 객체 생성"
   ]
  },
  {
   "cell_type": "code",
   "execution_count": null,
   "id": "3",
   "metadata": {},
   "outputs": [],
   "source": [
    "from openai import OpenAI\n",
    "\n",
    "# openai api 인증 및 openai 객체 생성\n",
    "client = OpenAI(api_key=OPENAI_API_KEY)"
   ]
  },
  {
   "cell_type": "code",
   "execution_count": null,
   "id": "4",
   "metadata": {},
   "outputs": [],
   "source": [
    "response = client.images.generate(\n",
    "    model=\"dall-e-3\",\n",
    "    prompt=\"초코 푸들이 푸른 들판에서 즐겁고 행복하게 뛰어노는 그림 4컷을 그려줘, 화풍은 고흐풍으로\",\n",
    "    size = \"1024x1024\",\n",
    "    quality=\"standard\",\n",
    "    n=1,\n",
    ")\n",
    "image_url=response.data[0].url"
   ]
  },
  {
   "cell_type": "code",
   "execution_count": null,
   "id": "5",
   "metadata": {},
   "outputs": [],
   "source": [
    "print(image_url)"
   ]
  },
  {
   "cell_type": "code",
   "execution_count": null,
   "id": "6",
   "metadata": {},
   "outputs": [],
   "source": [
    "response = client.images.generate(\n",
    "    model=\"dall-e-3\",\n",
    "    prompt=\"한국, 봄, 따뜻함, 목련, 개나리, 벗꽃, 밝은이미지를 그려줘\",\n",
    "    size = \"1024x1024\",\n",
    "    quality=\"standard\",\n",
    "    n=1,\n",
    ")\n",
    "image_url=response.data[0].url\n",
    "print(image_url)"
   ]
  },
  {
   "cell_type": "code",
   "execution_count": null,
   "id": "7",
   "metadata": {},
   "outputs": [],
   "source": [
    "from openai import OpenAI\n",
    "import base64\n",
    "client = OpenAI()\n",
    "\n",
    "prompt = \"\"\"\n",
    "A children's book drawing of a veterinarian using a stethoscope to \n",
    "listen to the heartbeat of a baby otter.\n",
    "\"\"\"\n",
    "\n",
    "result = client.images.generate(\n",
    "   # model=\"gpt-image-1\", <-- 승인 필요\n",
    "    model=\"dall-e-3\",\n",
    "    prompt=prompt\n",
    ")\n",
    "\n",
    "image_base64 = result.data[0].b64_json\n",
    "image_bytes = base64.b64decode(image_base64)\n",
    "\n",
    "# Save the image to a file\n",
    "with open(\"otter.png\", \"wb\") as f:\n",
    "    f.write(image_bytes)"
   ]
  },
  {
   "cell_type": "code",
   "execution_count": null,
   "id": "8",
   "metadata": {},
   "outputs": [],
   "source": [
    "from openai import OpenAI\n",
    "import base64, os\n",
    "from dotenv import load_dotenv\n",
    "\n",
    "load_dotenv()\n",
    "client = OpenAI(api_key=os.getenv(\"OPENAI_API_KEY\"))\n",
    "\n",
    "prompt = \"A children's book drawing of a veterinarian using a stethoscope to listen to a baby otter's heartbeat.\"\n",
    "\n",
    "result = client.images.generate(\n",
    "    model=\"dall-e-3\",\n",
    "    prompt=prompt\n",
    ")\n",
    "\n",
    "if not result.data or not result.data[0].b64_json:\n",
    "    print(\"❌ 이미지 생성 실패:\", result)\n",
    "else:\n",
    "    image_base64 = result.data[0].b64_json\n",
    "    image_bytes = base64.b64decode(image_base64)\n",
    "    with open(\"otter.png\", \"wb\") as f:\n",
    "        f.write(image_bytes)\n",
    "    print(\"✅ 이미지 저장 완료: otter.png\")\n"
   ]
  },
  {
   "cell_type": "code",
   "execution_count": null,
   "id": "9",
   "metadata": {},
   "outputs": [],
   "source": [
    "import base64\n",
    "import requests\n",
    "\n",
    "prompt = \"\"\"\n",
    "A children's book drawing of a veterinarian using a stethoscope to \n",
    "listen to the heartbeat of a baby otter.\n",
    "\"\"\"\n",
    "\n",
    "result = client.images.generate(\n",
    "    # model=\"gpt-image-1\", # 승인은 받아야 사용 가능\n",
    "    model=\"dall-e-3\",\n",
    "    prompt=prompt,\n",
    ")\n",
    "\n",
    "image_url = result.data[0].url\n",
    "image_data = requests.get(image_url).content\n",
    "print(image_data)\n",
    "with open(\"otter.png\", \"wb\") as f:\n",
    "    f.write(image_data)\n",
    "\n",
    "print(\"✅ 이미지 저장 완료: otter.png\")"
   ]
  },
  {
   "cell_type": "code",
   "execution_count": null,
   "id": "10",
   "metadata": {},
   "outputs": [],
   "source": []
  },
  {
   "cell_type": "code",
   "execution_count": null,
   "id": "11",
   "metadata": {},
   "outputs": [],
   "source": [
    "import base64\n",
    "\n",
    "prompt = \"\"\"\n",
    "A children's book drawing of a veterinarian using a stethoscope to \n",
    "listen to the heartbeat of a baby otter.\n",
    "\"\"\"\n",
    "\n",
    "result = client.images.generate(\n",
    "    # model=\"gpt-image-1\", # 승인은 받아야 사용 가능\n",
    "    model=\"dall-e-3\",\n",
    "    prompt=prompt,\n",
    "    response_format=\"b64_json\"\n",
    ")\n",
    "\n",
    "image_base64 = result.data[0].b64_json\n",
    "image_bytes = base64.b64decode(image_base64)\n",
    "\n",
    "# Save the image to a file\n",
    "with open(\"otter.png\", \"wb\") as f:\n",
    "    f.write(image_bytes)"
   ]
  },
  {
   "cell_type": "code",
   "execution_count": null,
   "id": "12",
   "metadata": {},
   "outputs": [],
   "source": []
  }
 ],
 "metadata": {
  "kernelspec": {
   "display_name": "llm_env",
   "language": "python",
   "name": "python3"
  },
  "language_info": {
   "codemirror_mode": {
    "name": "ipython",
    "version": 3
   },
   "file_extension": ".py",
   "mimetype": "text/x-python",
   "name": "python",
   "nbconvert_exporter": "python",
   "pygments_lexer": "ipython3",
   "version": "3.10.19"
  }
 },
 "nbformat": 4,
 "nbformat_minor": 5
}
